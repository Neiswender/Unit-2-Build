{
  "nbformat": 4,
  "nbformat_minor": 0,
  "metadata": {
    "colab": {
      "name": "Unit 2 Build Project.ipynb",
      "provenance": []
    },
    "kernelspec": {
      "name": "python3",
      "display_name": "Python 3"
    }
  },
  "cells": [
    {
      "cell_type": "markdown",
      "metadata": {
        "id": "ciddm25okuYs"
      },
      "source": [
        "### **1 - The Problem with Surf Forecasting**\r\n",
        "\r\n",
        "I am a Premium subscriber to Surfline, an online surf forecasting service. For $90 per year I have access to a worldwide list of surf locations along with live cameras, current condition reports, forecasts, charts, and other data. It's a fantastic tool which I use on a daily basis for scheduling my surf sessions in advance.\r\n",
        "\r\n",
        "Surfline unfortunately falls short when it comes to predicting the quality of surf at a specific location. Realtime local conditions will often differ from what Surfline has reported or forecasted. This can be either a pleasant surprise or an unexpected letdown depending on the situation.\r\n",
        "\r\n",
        "At the end of the day, regardless of what Surfline says, I am usually deciding to surf based on what I can see on a live camera or by going to the beach. Surfline helps to inform what my general expectations should be, but there is hardly ever certainty until I can see the conditions in real time. I often wonder whether it is possible to build a more locally-reliable model."
      ]
    },
    {
      "cell_type": "markdown",
      "metadata": {
        "id": "ErSyv1BeTlx2"
      },
      "source": [
        "### **2 - Data Selection, Cleaning, and Exploratory Analysis**\r\n",
        "\r\n",
        "The datasets used in this project come from noaa.gov and wblivesurf.com. NOAA provides archived swell and wind data. The \"fun\" rankings (increments of 0.5 on a scale of 1 through 5) are sourced from the WB Live Surf Report archive."
      ]
    },
    {
      "cell_type": "code",
      "metadata": {
        "id": "rAaOPVF_WE9f"
      },
      "source": [
        "#library imports\r\n",
        "import pandas as pd\r\n",
        "import datetime\r\n",
        "import numpy as np\r\n",
        "import sklearn as sk\r\n",
        "from sklearn.model_selection import train_test_split"
      ],
      "execution_count": null,
      "outputs": []
    },
    {
      "cell_type": "code",
      "metadata": {
        "id": "hQDgYk3hWbZ4"
      },
      "source": [
        "#import data\r\n",
        "waves = pd.read_csv('https://www.ndbc.noaa.gov/view_text_file.php?filename=41110h2019.txt.gz&dir=data/historical/stdmet/', delim_whitespace=True)\r\n",
        "dfwaves = pd.DataFrame(waves)\r\n",
        "\r\n",
        "wind = pd.read_csv('https://www.ndbc.noaa.gov/view_text_file.php?filename=41037h2019.txt.gz&dir=data/historical/stdmet/', delim_whitespace=True)\r\n",
        "dfwind = pd.DataFrame(wind)\r\n",
        "\r\n",
        "funfactor = pd.read_csv('https://raw.githubusercontent.com/Neiswender/2019_rating/main/dfwaves.csv%20-%20Copy%20of%20dfwaves.csv.csv')\r\n",
        "dfrank = pd.DataFrame(funfactor)"
      ],
      "execution_count": null,
      "outputs": []
    },
    {
      "cell_type": "code",
      "metadata": {
        "colab": {
          "base_uri": "https://localhost:8080/",
          "height": 297
        },
        "id": "WaXMNBQpXFeH",
        "outputId": "e2abf44f-8539-48d6-b491-b5bc7f2e7014"
      },
      "source": [
        "#dropping redundant or unnecessary rows and columns\r\n",
        "dfwaves = dfwaves.drop(0)\r\n",
        "dfwaves = dfwaves[['#YY','MM','DD','WVHT','DPD','APD','MWD','WTMP']]\r\n",
        "\r\n",
        "dfwind = dfwind.drop(0)\r\n",
        "dfwind = dfwind[['#YY','MM','DD','WDIR','WSPD','GST','PRES','ATMP']]\r\n",
        "\r\n",
        "#changing column names for easier interpretation \r\n",
        "dfwaves = dfwaves.rename(columns={'#YY':'year','MM':'month','DD':'day','WVHT':'Wave_Height','DPD':'Dominant_Period',\r\n",
        "                                  'APD':'Average_Period',\r\n",
        "                                  'MWD':'Mean_Wave_Direction','WTMP':'Water_Temp'})\r\n",
        "\r\n",
        "dfwind = dfwind.rename(columns={'#YY':'year','MM':'month','DD':'day','WDIR':'Wind_Direction','WSPD':'Wind_Speed',\r\n",
        "                       'GST':'Gust','PRES':'Pressure','ATMP':'Air_Temp'})\r\n",
        "\r\n",
        "#consolidating data into an average of the readings for each day\r\n",
        "dfwaves['date'] = pd.to_datetime(dfwaves[['year','month','day']])\r\n",
        "dfwaves = dfwaves.astype({'Wave_Height':float,'Dominant_Period':float,'Average_Period':float,'Mean_Wave_Direction':float,'Water_Temp':float})\r\n",
        "dfwaves = dfwaves.groupby(['date']).mean()\r\n",
        "\r\n",
        "dfwind['date'] = pd.to_datetime(dfwind[['year','month','day']])\r\n",
        "dfwind = dfwind.astype({'Wind_Direction':float,'Wind_Speed':float,'Gust':float,'Pressure':float,'Air_Temp':float})\r\n",
        "dfwind = dfwind.groupby(['date']).mean()\r\n",
        "\r\n",
        "dfrank['date'] = pd.to_datetime(dfrank['date'])\r\n",
        "\r\n",
        "#changing the units to imperial\r\n",
        "dfwaves['Wave_Height'] = dfwaves['Wave_Height']*3.28084\r\n",
        "dfwaves['Water_Temp'] = (dfwaves['Water_Temp']*(9/5))+32\r\n",
        "dfwind['Air_Temp'] = (dfwind['Air_Temp']*(9/5))+32\r\n",
        "\r\n",
        "#combining this data for the model to use\r\n",
        "df_wind_waves = dfwaves.merge(dfwind,on='date')\r\n",
        "df = df_wind_waves.merge(dfrank,on='date')\r\n",
        "df.describe()\r\n",
        "\r\n"
      ],
      "execution_count": null,
      "outputs": [
        {
          "output_type": "execute_result",
          "data": {
            "text/html": [
              "<div>\n",
              "<style scoped>\n",
              "    .dataframe tbody tr th:only-of-type {\n",
              "        vertical-align: middle;\n",
              "    }\n",
              "\n",
              "    .dataframe tbody tr th {\n",
              "        vertical-align: top;\n",
              "    }\n",
              "\n",
              "    .dataframe thead th {\n",
              "        text-align: right;\n",
              "    }\n",
              "</style>\n",
              "<table border=\"1\" class=\"dataframe\">\n",
              "  <thead>\n",
              "    <tr style=\"text-align: right;\">\n",
              "      <th></th>\n",
              "      <th>Wave_Height</th>\n",
              "      <th>Dominant_Period</th>\n",
              "      <th>Average_Period</th>\n",
              "      <th>Mean_Wave_Direction</th>\n",
              "      <th>Water_Temp</th>\n",
              "      <th>Wind_Direction</th>\n",
              "      <th>Wind_Speed</th>\n",
              "      <th>Gust</th>\n",
              "      <th>Pressure</th>\n",
              "      <th>Air_Temp</th>\n",
              "      <th>rating</th>\n",
              "    </tr>\n",
              "  </thead>\n",
              "  <tbody>\n",
              "    <tr>\n",
              "      <th>count</th>\n",
              "      <td>365.000000</td>\n",
              "      <td>365.000000</td>\n",
              "      <td>365.000000</td>\n",
              "      <td>365.000000</td>\n",
              "      <td>365.000000</td>\n",
              "      <td>365.000000</td>\n",
              "      <td>365.000000</td>\n",
              "      <td>365.000000</td>\n",
              "      <td>365.000000</td>\n",
              "      <td>365.000000</td>\n",
              "      <td>365.000000</td>\n",
              "    </tr>\n",
              "    <tr>\n",
              "      <th>mean</th>\n",
              "      <td>3.022263</td>\n",
              "      <td>7.718357</td>\n",
              "      <td>4.846274</td>\n",
              "      <td>128.639242</td>\n",
              "      <td>74.714136</td>\n",
              "      <td>178.308706</td>\n",
              "      <td>6.461640</td>\n",
              "      <td>9.109527</td>\n",
              "      <td>1236.886108</td>\n",
              "      <td>68.125871</td>\n",
              "      <td>1.235616</td>\n",
              "    </tr>\n",
              "    <tr>\n",
              "      <th>std</th>\n",
              "      <td>1.181778</td>\n",
              "      <td>2.100442</td>\n",
              "      <td>0.774892</td>\n",
              "      <td>27.380304</td>\n",
              "      <td>95.091684</td>\n",
              "      <td>77.206666</td>\n",
              "      <td>2.533922</td>\n",
              "      <td>3.480191</td>\n",
              "      <td>1342.624098</td>\n",
              "      <td>11.539243</td>\n",
              "      <td>0.851206</td>\n",
              "    </tr>\n",
              "    <tr>\n",
              "      <th>min</th>\n",
              "      <td>0.984936</td>\n",
              "      <td>3.912708</td>\n",
              "      <td>3.190417</td>\n",
              "      <td>66.916667</td>\n",
              "      <td>51.237500</td>\n",
              "      <td>29.916667</td>\n",
              "      <td>1.683333</td>\n",
              "      <td>2.941667</td>\n",
              "      <td>1002.804167</td>\n",
              "      <td>37.437500</td>\n",
              "      <td>0.000000</td>\n",
              "    </tr>\n",
              "    <tr>\n",
              "      <th>25%</th>\n",
              "      <td>2.217301</td>\n",
              "      <td>6.131042</td>\n",
              "      <td>4.277917</td>\n",
              "      <td>108.270833</td>\n",
              "      <td>56.900000</td>\n",
              "      <td>109.250000</td>\n",
              "      <td>4.566667</td>\n",
              "      <td>6.816667</td>\n",
              "      <td>1014.387500</td>\n",
              "      <td>58.984348</td>\n",
              "      <td>0.500000</td>\n",
              "    </tr>\n",
              "    <tr>\n",
              "      <th>50%</th>\n",
              "      <td>2.747020</td>\n",
              "      <td>7.362917</td>\n",
              "      <td>4.708750</td>\n",
              "      <td>125.458333</td>\n",
              "      <td>70.373750</td>\n",
              "      <td>191.375000</td>\n",
              "      <td>6.275000</td>\n",
              "      <td>8.816667</td>\n",
              "      <td>1017.745833</td>\n",
              "      <td>69.627500</td>\n",
              "      <td>1.000000</td>\n",
              "    </tr>\n",
              "    <tr>\n",
              "      <th>75%</th>\n",
              "      <td>3.523485</td>\n",
              "      <td>8.888542</td>\n",
              "      <td>5.341458</td>\n",
              "      <td>146.217391</td>\n",
              "      <td>79.951250</td>\n",
              "      <td>243.583333</td>\n",
              "      <td>8.066667</td>\n",
              "      <td>11.108333</td>\n",
              "      <td>1021.033333</td>\n",
              "      <td>78.560000</td>\n",
              "      <td>2.000000</td>\n",
              "    </tr>\n",
              "    <tr>\n",
              "      <th>max</th>\n",
              "      <td>8.994286</td>\n",
              "      <td>15.128750</td>\n",
              "      <td>7.355417</td>\n",
              "      <td>222.250000</td>\n",
              "      <td>1793.768750</td>\n",
              "      <td>334.875000</td>\n",
              "      <td>17.712500</td>\n",
              "      <td>32.854167</td>\n",
              "      <td>9999.000000</td>\n",
              "      <td>134.720000</td>\n",
              "      <td>4.000000</td>\n",
              "    </tr>\n",
              "  </tbody>\n",
              "</table>\n",
              "</div>"
            ],
            "text/plain": [
              "       Wave_Height  Dominant_Period  ...    Air_Temp      rating\n",
              "count   365.000000       365.000000  ...  365.000000  365.000000\n",
              "mean      3.022263         7.718357  ...   68.125871    1.235616\n",
              "std       1.181778         2.100442  ...   11.539243    0.851206\n",
              "min       0.984936         3.912708  ...   37.437500    0.000000\n",
              "25%       2.217301         6.131042  ...   58.984348    0.500000\n",
              "50%       2.747020         7.362917  ...   69.627500    1.000000\n",
              "75%       3.523485         8.888542  ...   78.560000    2.000000\n",
              "max       8.994286        15.128750  ...  134.720000    4.000000\n",
              "\n",
              "[8 rows x 11 columns]"
            ]
          },
          "metadata": {
            "tags": []
          },
          "execution_count": 4
        }
      ]
    },
    {
      "cell_type": "code",
      "metadata": {
        "id": "NOLNapXL3zml"
      },
      "source": [
        "#engineer target feature to create binary classification problem\r\n",
        "df['Go_Surf'] = (df['rating'] >= 1.5)\r\n",
        "df['Go_Surf'] = df['Go_Surf']*1\r\n"
      ],
      "execution_count": null,
      "outputs": []
    },
    {
      "cell_type": "code",
      "metadata": {
        "colab": {
          "base_uri": "https://localhost:8080/",
          "height": 589
        },
        "id": "5U3vOCOI5V8r",
        "outputId": "2d2ddaff-f0e3-42b6-d6a2-f7237c1e0e5f"
      },
      "source": [
        "#drop rating column to avoid leakage\r\n",
        "df = df.drop(labels='rating',axis=1)\r\n",
        "df"
      ],
      "execution_count": null,
      "outputs": [
        {
          "output_type": "execute_result",
          "data": {
            "text/html": [
              "<div>\n",
              "<style scoped>\n",
              "    .dataframe tbody tr th:only-of-type {\n",
              "        vertical-align: middle;\n",
              "    }\n",
              "\n",
              "    .dataframe tbody tr th {\n",
              "        vertical-align: top;\n",
              "    }\n",
              "\n",
              "    .dataframe thead th {\n",
              "        text-align: right;\n",
              "    }\n",
              "</style>\n",
              "<table border=\"1\" class=\"dataframe\">\n",
              "  <thead>\n",
              "    <tr style=\"text-align: right;\">\n",
              "      <th></th>\n",
              "      <th>date</th>\n",
              "      <th>Wave_Height</th>\n",
              "      <th>Dominant_Period</th>\n",
              "      <th>Average_Period</th>\n",
              "      <th>Mean_Wave_Direction</th>\n",
              "      <th>Water_Temp</th>\n",
              "      <th>Wind_Direction</th>\n",
              "      <th>Wind_Speed</th>\n",
              "      <th>Gust</th>\n",
              "      <th>Pressure</th>\n",
              "      <th>Air_Temp</th>\n",
              "      <th>Go_Surf</th>\n",
              "    </tr>\n",
              "  </thead>\n",
              "  <tbody>\n",
              "    <tr>\n",
              "      <th>0</th>\n",
              "      <td>2019-01-01</td>\n",
              "      <td>2.747020</td>\n",
              "      <td>7.541875</td>\n",
              "      <td>4.706875</td>\n",
              "      <td>147.333333</td>\n",
              "      <td>56.071250</td>\n",
              "      <td>244.625000</td>\n",
              "      <td>6.541667</td>\n",
              "      <td>8.879167</td>\n",
              "      <td>1018.583333</td>\n",
              "      <td>61.67750</td>\n",
              "      <td>1</td>\n",
              "    </tr>\n",
              "    <tr>\n",
              "      <th>1</th>\n",
              "      <td>2019-01-02</td>\n",
              "      <td>2.667733</td>\n",
              "      <td>5.672500</td>\n",
              "      <td>4.644375</td>\n",
              "      <td>148.656250</td>\n",
              "      <td>56.738750</td>\n",
              "      <td>141.375000</td>\n",
              "      <td>4.756250</td>\n",
              "      <td>7.131250</td>\n",
              "      <td>1020.537500</td>\n",
              "      <td>58.48250</td>\n",
              "      <td>0</td>\n",
              "    </tr>\n",
              "    <tr>\n",
              "      <th>2</th>\n",
              "      <td>2019-01-03</td>\n",
              "      <td>2.068980</td>\n",
              "      <td>7.071042</td>\n",
              "      <td>5.083333</td>\n",
              "      <td>125.458333</td>\n",
              "      <td>56.900000</td>\n",
              "      <td>190.041667</td>\n",
              "      <td>2.816667</td>\n",
              "      <td>4.300000</td>\n",
              "      <td>1017.275000</td>\n",
              "      <td>57.83000</td>\n",
              "      <td>0</td>\n",
              "    </tr>\n",
              "    <tr>\n",
              "      <th>3</th>\n",
              "      <td>2019-01-04</td>\n",
              "      <td>2.731474</td>\n",
              "      <td>6.062766</td>\n",
              "      <td>4.487021</td>\n",
              "      <td>156.765957</td>\n",
              "      <td>56.882128</td>\n",
              "      <td>76.739130</td>\n",
              "      <td>4.043478</td>\n",
              "      <td>5.847826</td>\n",
              "      <td>1014.630435</td>\n",
              "      <td>58.85913</td>\n",
              "      <td>0</td>\n",
              "    </tr>\n",
              "    <tr>\n",
              "      <th>4</th>\n",
              "      <td>2019-01-05</td>\n",
              "      <td>3.824913</td>\n",
              "      <td>7.145625</td>\n",
              "      <td>4.485625</td>\n",
              "      <td>160.354167</td>\n",
              "      <td>57.777500</td>\n",
              "      <td>265.583333</td>\n",
              "      <td>9.483333</td>\n",
              "      <td>13.291667</td>\n",
              "      <td>1006.887500</td>\n",
              "      <td>58.63250</td>\n",
              "      <td>1</td>\n",
              "    </tr>\n",
              "    <tr>\n",
              "      <th>...</th>\n",
              "      <td>...</td>\n",
              "      <td>...</td>\n",
              "      <td>...</td>\n",
              "      <td>...</td>\n",
              "      <td>...</td>\n",
              "      <td>...</td>\n",
              "      <td>...</td>\n",
              "      <td>...</td>\n",
              "      <td>...</td>\n",
              "      <td>...</td>\n",
              "      <td>...</td>\n",
              "      <td>...</td>\n",
              "    </tr>\n",
              "    <tr>\n",
              "      <th>360</th>\n",
              "      <td>2019-12-27</td>\n",
              "      <td>2.922740</td>\n",
              "      <td>8.458511</td>\n",
              "      <td>5.540000</td>\n",
              "      <td>123.297872</td>\n",
              "      <td>62.148085</td>\n",
              "      <td>144.458333</td>\n",
              "      <td>4.479167</td>\n",
              "      <td>6.454167</td>\n",
              "      <td>1024.270833</td>\n",
              "      <td>68.24000</td>\n",
              "      <td>1</td>\n",
              "    </tr>\n",
              "    <tr>\n",
              "      <th>361</th>\n",
              "      <td>2019-12-28</td>\n",
              "      <td>2.451744</td>\n",
              "      <td>7.962292</td>\n",
              "      <td>5.666875</td>\n",
              "      <td>127.083333</td>\n",
              "      <td>62.596250</td>\n",
              "      <td>94.125000</td>\n",
              "      <td>2.891667</td>\n",
              "      <td>4.304167</td>\n",
              "      <td>1023.200000</td>\n",
              "      <td>67.34000</td>\n",
              "      <td>1</td>\n",
              "    </tr>\n",
              "    <tr>\n",
              "      <th>362</th>\n",
              "      <td>2019-12-29</td>\n",
              "      <td>2.729932</td>\n",
              "      <td>7.876875</td>\n",
              "      <td>5.356042</td>\n",
              "      <td>134.666667</td>\n",
              "      <td>61.640000</td>\n",
              "      <td>185.875000</td>\n",
              "      <td>4.545833</td>\n",
              "      <td>6.416667</td>\n",
              "      <td>1020.258333</td>\n",
              "      <td>68.90750</td>\n",
              "      <td>0</td>\n",
              "    </tr>\n",
              "    <tr>\n",
              "      <th>363</th>\n",
              "      <td>2019-12-30</td>\n",
              "      <td>4.690918</td>\n",
              "      <td>7.105417</td>\n",
              "      <td>5.128750</td>\n",
              "      <td>156.458333</td>\n",
              "      <td>59.558750</td>\n",
              "      <td>231.125000</td>\n",
              "      <td>9.012500</td>\n",
              "      <td>12.033333</td>\n",
              "      <td>1011.150000</td>\n",
              "      <td>66.76250</td>\n",
              "      <td>1</td>\n",
              "    </tr>\n",
              "    <tr>\n",
              "      <th>364</th>\n",
              "      <td>2019-12-31</td>\n",
              "      <td>3.230260</td>\n",
              "      <td>7.149583</td>\n",
              "      <td>4.540833</td>\n",
              "      <td>168.125000</td>\n",
              "      <td>61.598750</td>\n",
              "      <td>272.666667</td>\n",
              "      <td>10.195833</td>\n",
              "      <td>13.283333</td>\n",
              "      <td>1010.241667</td>\n",
              "      <td>58.25000</td>\n",
              "      <td>0</td>\n",
              "    </tr>\n",
              "  </tbody>\n",
              "</table>\n",
              "<p>365 rows × 12 columns</p>\n",
              "</div>"
            ],
            "text/plain": [
              "          date  Wave_Height  Dominant_Period  ...     Pressure  Air_Temp  Go_Surf\n",
              "0   2019-01-01     2.747020         7.541875  ...  1018.583333  61.67750        1\n",
              "1   2019-01-02     2.667733         5.672500  ...  1020.537500  58.48250        0\n",
              "2   2019-01-03     2.068980         7.071042  ...  1017.275000  57.83000        0\n",
              "3   2019-01-04     2.731474         6.062766  ...  1014.630435  58.85913        0\n",
              "4   2019-01-05     3.824913         7.145625  ...  1006.887500  58.63250        1\n",
              "..         ...          ...              ...  ...          ...       ...      ...\n",
              "360 2019-12-27     2.922740         8.458511  ...  1024.270833  68.24000        1\n",
              "361 2019-12-28     2.451744         7.962292  ...  1023.200000  67.34000        1\n",
              "362 2019-12-29     2.729932         7.876875  ...  1020.258333  68.90750        0\n",
              "363 2019-12-30     4.690918         7.105417  ...  1011.150000  66.76250        1\n",
              "364 2019-12-31     3.230260         7.149583  ...  1010.241667  58.25000        0\n",
              "\n",
              "[365 rows x 12 columns]"
            ]
          },
          "metadata": {
            "tags": []
          },
          "execution_count": 6
        }
      ]
    },
    {
      "cell_type": "code",
      "metadata": {
        "colab": {
          "base_uri": "https://localhost:8080/",
          "height": 450
        },
        "id": "AelWK698CEei",
        "outputId": "7e27e4f3-4930-4a63-916b-61dc1a4f2e2a"
      },
      "source": [
        "df = df.groupby(['date']).mean()\r\n",
        "df\r\n"
      ],
      "execution_count": null,
      "outputs": [
        {
          "output_type": "execute_result",
          "data": {
            "text/html": [
              "<div>\n",
              "<style scoped>\n",
              "    .dataframe tbody tr th:only-of-type {\n",
              "        vertical-align: middle;\n",
              "    }\n",
              "\n",
              "    .dataframe tbody tr th {\n",
              "        vertical-align: top;\n",
              "    }\n",
              "\n",
              "    .dataframe thead th {\n",
              "        text-align: right;\n",
              "    }\n",
              "</style>\n",
              "<table border=\"1\" class=\"dataframe\">\n",
              "  <thead>\n",
              "    <tr style=\"text-align: right;\">\n",
              "      <th></th>\n",
              "      <th>Wave_Height</th>\n",
              "      <th>Dominant_Period</th>\n",
              "      <th>Average_Period</th>\n",
              "      <th>Mean_Wave_Direction</th>\n",
              "      <th>Water_Temp</th>\n",
              "      <th>Wind_Direction</th>\n",
              "      <th>Wind_Speed</th>\n",
              "      <th>Gust</th>\n",
              "      <th>Pressure</th>\n",
              "      <th>Air_Temp</th>\n",
              "      <th>Go_Surf</th>\n",
              "    </tr>\n",
              "    <tr>\n",
              "      <th>date</th>\n",
              "      <th></th>\n",
              "      <th></th>\n",
              "      <th></th>\n",
              "      <th></th>\n",
              "      <th></th>\n",
              "      <th></th>\n",
              "      <th></th>\n",
              "      <th></th>\n",
              "      <th></th>\n",
              "      <th></th>\n",
              "      <th></th>\n",
              "    </tr>\n",
              "  </thead>\n",
              "  <tbody>\n",
              "    <tr>\n",
              "      <th>2019-01-01</th>\n",
              "      <td>2.747020</td>\n",
              "      <td>7.541875</td>\n",
              "      <td>4.706875</td>\n",
              "      <td>147.333333</td>\n",
              "      <td>56.071250</td>\n",
              "      <td>244.625000</td>\n",
              "      <td>6.541667</td>\n",
              "      <td>8.879167</td>\n",
              "      <td>1018.583333</td>\n",
              "      <td>61.67750</td>\n",
              "      <td>1</td>\n",
              "    </tr>\n",
              "    <tr>\n",
              "      <th>2019-01-02</th>\n",
              "      <td>2.667733</td>\n",
              "      <td>5.672500</td>\n",
              "      <td>4.644375</td>\n",
              "      <td>148.656250</td>\n",
              "      <td>56.738750</td>\n",
              "      <td>141.375000</td>\n",
              "      <td>4.756250</td>\n",
              "      <td>7.131250</td>\n",
              "      <td>1020.537500</td>\n",
              "      <td>58.48250</td>\n",
              "      <td>0</td>\n",
              "    </tr>\n",
              "    <tr>\n",
              "      <th>2019-01-03</th>\n",
              "      <td>2.068980</td>\n",
              "      <td>7.071042</td>\n",
              "      <td>5.083333</td>\n",
              "      <td>125.458333</td>\n",
              "      <td>56.900000</td>\n",
              "      <td>190.041667</td>\n",
              "      <td>2.816667</td>\n",
              "      <td>4.300000</td>\n",
              "      <td>1017.275000</td>\n",
              "      <td>57.83000</td>\n",
              "      <td>0</td>\n",
              "    </tr>\n",
              "    <tr>\n",
              "      <th>2019-01-04</th>\n",
              "      <td>2.731474</td>\n",
              "      <td>6.062766</td>\n",
              "      <td>4.487021</td>\n",
              "      <td>156.765957</td>\n",
              "      <td>56.882128</td>\n",
              "      <td>76.739130</td>\n",
              "      <td>4.043478</td>\n",
              "      <td>5.847826</td>\n",
              "      <td>1014.630435</td>\n",
              "      <td>58.85913</td>\n",
              "      <td>0</td>\n",
              "    </tr>\n",
              "    <tr>\n",
              "      <th>2019-01-05</th>\n",
              "      <td>3.824913</td>\n",
              "      <td>7.145625</td>\n",
              "      <td>4.485625</td>\n",
              "      <td>160.354167</td>\n",
              "      <td>57.777500</td>\n",
              "      <td>265.583333</td>\n",
              "      <td>9.483333</td>\n",
              "      <td>13.291667</td>\n",
              "      <td>1006.887500</td>\n",
              "      <td>58.63250</td>\n",
              "      <td>1</td>\n",
              "    </tr>\n",
              "    <tr>\n",
              "      <th>...</th>\n",
              "      <td>...</td>\n",
              "      <td>...</td>\n",
              "      <td>...</td>\n",
              "      <td>...</td>\n",
              "      <td>...</td>\n",
              "      <td>...</td>\n",
              "      <td>...</td>\n",
              "      <td>...</td>\n",
              "      <td>...</td>\n",
              "      <td>...</td>\n",
              "      <td>...</td>\n",
              "    </tr>\n",
              "    <tr>\n",
              "      <th>2019-12-27</th>\n",
              "      <td>2.922740</td>\n",
              "      <td>8.458511</td>\n",
              "      <td>5.540000</td>\n",
              "      <td>123.297872</td>\n",
              "      <td>62.148085</td>\n",
              "      <td>144.458333</td>\n",
              "      <td>4.479167</td>\n",
              "      <td>6.454167</td>\n",
              "      <td>1024.270833</td>\n",
              "      <td>68.24000</td>\n",
              "      <td>1</td>\n",
              "    </tr>\n",
              "    <tr>\n",
              "      <th>2019-12-28</th>\n",
              "      <td>2.451744</td>\n",
              "      <td>7.962292</td>\n",
              "      <td>5.666875</td>\n",
              "      <td>127.083333</td>\n",
              "      <td>62.596250</td>\n",
              "      <td>94.125000</td>\n",
              "      <td>2.891667</td>\n",
              "      <td>4.304167</td>\n",
              "      <td>1023.200000</td>\n",
              "      <td>67.34000</td>\n",
              "      <td>1</td>\n",
              "    </tr>\n",
              "    <tr>\n",
              "      <th>2019-12-29</th>\n",
              "      <td>2.729932</td>\n",
              "      <td>7.876875</td>\n",
              "      <td>5.356042</td>\n",
              "      <td>134.666667</td>\n",
              "      <td>61.640000</td>\n",
              "      <td>185.875000</td>\n",
              "      <td>4.545833</td>\n",
              "      <td>6.416667</td>\n",
              "      <td>1020.258333</td>\n",
              "      <td>68.90750</td>\n",
              "      <td>0</td>\n",
              "    </tr>\n",
              "    <tr>\n",
              "      <th>2019-12-30</th>\n",
              "      <td>4.690918</td>\n",
              "      <td>7.105417</td>\n",
              "      <td>5.128750</td>\n",
              "      <td>156.458333</td>\n",
              "      <td>59.558750</td>\n",
              "      <td>231.125000</td>\n",
              "      <td>9.012500</td>\n",
              "      <td>12.033333</td>\n",
              "      <td>1011.150000</td>\n",
              "      <td>66.76250</td>\n",
              "      <td>1</td>\n",
              "    </tr>\n",
              "    <tr>\n",
              "      <th>2019-12-31</th>\n",
              "      <td>3.230260</td>\n",
              "      <td>7.149583</td>\n",
              "      <td>4.540833</td>\n",
              "      <td>168.125000</td>\n",
              "      <td>61.598750</td>\n",
              "      <td>272.666667</td>\n",
              "      <td>10.195833</td>\n",
              "      <td>13.283333</td>\n",
              "      <td>1010.241667</td>\n",
              "      <td>58.25000</td>\n",
              "      <td>0</td>\n",
              "    </tr>\n",
              "  </tbody>\n",
              "</table>\n",
              "<p>365 rows × 11 columns</p>\n",
              "</div>"
            ],
            "text/plain": [
              "            Wave_Height  Dominant_Period  ...  Air_Temp  Go_Surf\n",
              "date                                      ...                   \n",
              "2019-01-01     2.747020         7.541875  ...  61.67750        1\n",
              "2019-01-02     2.667733         5.672500  ...  58.48250        0\n",
              "2019-01-03     2.068980         7.071042  ...  57.83000        0\n",
              "2019-01-04     2.731474         6.062766  ...  58.85913        0\n",
              "2019-01-05     3.824913         7.145625  ...  58.63250        1\n",
              "...                 ...              ...  ...       ...      ...\n",
              "2019-12-27     2.922740         8.458511  ...  68.24000        1\n",
              "2019-12-28     2.451744         7.962292  ...  67.34000        1\n",
              "2019-12-29     2.729932         7.876875  ...  68.90750        0\n",
              "2019-12-30     4.690918         7.105417  ...  66.76250        1\n",
              "2019-12-31     3.230260         7.149583  ...  58.25000        0\n",
              "\n",
              "[365 rows x 11 columns]"
            ]
          },
          "metadata": {
            "tags": []
          },
          "execution_count": 7
        }
      ]
    },
    {
      "cell_type": "code",
      "metadata": {
        "colab": {
          "base_uri": "https://localhost:8080/"
        },
        "id": "_FSZujPh-tVa",
        "outputId": "7d2049b0-cc3d-45d4-da5e-f8e75fd6367d"
      },
      "source": [
        "df['Go_Surf'].value_counts(normalize=True)"
      ],
      "execution_count": null,
      "outputs": [
        {
          "output_type": "execute_result",
          "data": {
            "text/plain": [
              "0    0.569863\n",
              "1    0.430137\n",
              "Name: Go_Surf, dtype: float64"
            ]
          },
          "metadata": {
            "tags": []
          },
          "execution_count": 8
        }
      ]
    },
    {
      "cell_type": "markdown",
      "metadata": {
        "id": "U_p2Dde2khpp"
      },
      "source": [
        "### **3 - A Binary Classification Problem**\r\n",
        "\r\n",
        "Target: Go Surf\r\n",
        "*   How - Filtering qualitative rankings to select days that have at least a 1.5 fun factor\r\n",
        "*   Why - Our positive results represent the best days to target for a surf session. \r\n",
        "\r\n",
        "Metric: Accuracy\r\n",
        "*   How/Why - This a clear first choice as a metric due to the balanced distribution of my target feature\r\n",
        " \r\n",
        "Baseline: \"Don't Go\"\r\n",
        "*   How - The surf quality is considered a \"Don't Go\" if the fun factor rating is 1 or less. There may be surfable waves and some opportunity for good rides, but overall this is not a day to target for a surf.\r\n",
        "*   Why - Choosing the majority class as a baseline is a great first step in evaluating a model\r\n",
        "\r\n",
        "\r\n"
      ]
    },
    {
      "cell_type": "code",
      "metadata": {
        "id": "uh93VxKTfg3V"
      },
      "source": [
        "#select features and target\r\n",
        "features = df.columns.drop('Go_Surf')\r\n",
        "target = 'Go_Surf'\r\n",
        "X = df[features]\r\n",
        "y = df[target]"
      ],
      "execution_count": null,
      "outputs": []
    },
    {
      "cell_type": "code",
      "metadata": {
        "id": "HvEz2MLj_dYq"
      },
      "source": [
        "#divide into training and test sets\r\n",
        "X_train, X_test, y_train, y_test = train_test_split(X,y, test_size = 0.2, random_state=42)"
      ],
      "execution_count": null,
      "outputs": []
    },
    {
      "cell_type": "code",
      "metadata": {
        "id": "J596DUW7AJw_"
      },
      "source": [
        "#establish baseline\r\n",
        "baseline_acc = 0.5698"
      ],
      "execution_count": null,
      "outputs": []
    },
    {
      "cell_type": "code",
      "metadata": {
        "colab": {
          "base_uri": "https://localhost:8080/"
        },
        "id": "dDTxaLeHAbxA",
        "outputId": "6854895e-3d25-4fe6-f9e8-0c4296daca64"
      },
      "source": [
        "#instantiate our logistic regression model\r\n",
        "from sklearn.linear_model import LogisticRegression\r\n",
        "from sklearn.pipeline import make_pipeline\r\n",
        "model = make_pipeline(\r\n",
        "    LogisticRegression(random_state=42, max_iter=3000)\r\n",
        ")\r\n",
        "\r\n",
        "model.fit(X_train,y_train)"
      ],
      "execution_count": null,
      "outputs": [
        {
          "output_type": "execute_result",
          "data": {
            "text/plain": [
              "Pipeline(memory=None,\n",
              "         steps=[('logisticregression',\n",
              "                 LogisticRegression(C=1.0, class_weight=None, dual=False,\n",
              "                                    fit_intercept=True, intercept_scaling=1,\n",
              "                                    l1_ratio=None, max_iter=3000,\n",
              "                                    multi_class='auto', n_jobs=None,\n",
              "                                    penalty='l2', random_state=42,\n",
              "                                    solver='lbfgs', tol=0.0001, verbose=0,\n",
              "                                    warm_start=False))],\n",
              "         verbose=False)"
            ]
          },
          "metadata": {
            "tags": []
          },
          "execution_count": 12
        }
      ]
    },
    {
      "cell_type": "code",
      "metadata": {
        "id": "kvIGL924EWsz"
      },
      "source": [
        "#check individual predictions\r\n",
        "input = '2019-03-20'\r\n",
        "example = X.loc[input:input]\r\n"
      ],
      "execution_count": null,
      "outputs": []
    },
    {
      "cell_type": "code",
      "metadata": {
        "colab": {
          "base_uri": "https://localhost:8080/"
        },
        "id": "IAeI2MKMERc5",
        "outputId": "8820572e-e054-4b5a-9d17-272c102a9b37"
      },
      "source": [
        "model.predict(example)"
      ],
      "execution_count": null,
      "outputs": [
        {
          "output_type": "execute_result",
          "data": {
            "text/plain": [
              "array([1])"
            ]
          },
          "metadata": {
            "tags": []
          },
          "execution_count": 21
        }
      ]
    },
    {
      "cell_type": "code",
      "metadata": {
        "colab": {
          "base_uri": "https://localhost:8080/"
        },
        "id": "jwOvJmY-C3at",
        "outputId": "de3ad9aa-3907-40a4-84bd-7af5f3aa5b63"
      },
      "source": [
        "#How does the model score?\r\n",
        "train_acc = model.score(X_train,y_train)\r\n",
        "test_acc = model.score(X_test,y_test)\r\n",
        "print('Training Accuracy Score:', train_acc)\r\n",
        "print('Testing Accuracy Score:', test_acc)"
      ],
      "execution_count": null,
      "outputs": [
        {
          "output_type": "stream",
          "text": [
            "Training Accuracy Score: 0.8116438356164384\n",
            "Testing Accuracy Score: 0.7945205479452054\n"
          ],
          "name": "stdout"
        }
      ]
    },
    {
      "cell_type": "code",
      "metadata": {
        "colab": {
          "base_uri": "https://localhost:8080/"
        },
        "id": "xpkGcpWapfQ8",
        "outputId": "080b88ae-d133-4f55-aebd-50b02b3a7659"
      },
      "source": [
        "#Random Forest Classifier\r\n",
        "from sklearn.ensemble import RandomForestClassifier\r\n",
        "\r\n",
        "forest = RandomForestClassifier()\r\n",
        "forest.fit(X_train,y_train)"
      ],
      "execution_count": null,
      "outputs": [
        {
          "output_type": "execute_result",
          "data": {
            "text/plain": [
              "RandomForestClassifier(bootstrap=True, ccp_alpha=0.0, class_weight=None,\n",
              "                       criterion='gini', max_depth=None, max_features='auto',\n",
              "                       max_leaf_nodes=None, max_samples=None,\n",
              "                       min_impurity_decrease=0.0, min_impurity_split=None,\n",
              "                       min_samples_leaf=1, min_samples_split=2,\n",
              "                       min_weight_fraction_leaf=0.0, n_estimators=100,\n",
              "                       n_jobs=None, oob_score=False, random_state=None,\n",
              "                       verbose=0, warm_start=False)"
            ]
          },
          "metadata": {
            "tags": []
          },
          "execution_count": 27
        }
      ]
    },
    {
      "cell_type": "code",
      "metadata": {
        "colab": {
          "base_uri": "https://localhost:8080/"
        },
        "id": "LxutZCPUpzJL",
        "outputId": "78f12195-c97e-4bfb-bfb1-aa7ed5476e9d"
      },
      "source": [
        "#scoring our random forest model\r\n",
        "forest.score(X_test,y_test)"
      ],
      "execution_count": null,
      "outputs": [
        {
          "output_type": "execute_result",
          "data": {
            "text/plain": [
              "0.8493150684931506"
            ]
          },
          "metadata": {
            "tags": []
          },
          "execution_count": 29
        }
      ]
    },
    {
      "cell_type": "code",
      "metadata": {
        "colab": {
          "base_uri": "https://localhost:8080/"
        },
        "id": "v715fzgZqQio",
        "outputId": "d6785253-fa1a-491a-88a5-48e501d6d49f"
      },
      "source": [
        "forest.feature_importances_"
      ],
      "execution_count": null,
      "outputs": [
        {
          "output_type": "execute_result",
          "data": {
            "text/plain": [
              "array([0.25772261, 0.09596235, 0.19110527, 0.05845598, 0.06932768,\n",
              "       0.07313549, 0.06290378, 0.07426271, 0.05771827, 0.05940587])"
            ]
          },
          "metadata": {
            "tags": []
          },
          "execution_count": 30
        }
      ]
    }
  ]
}